{
  "nbformat": 4,
  "nbformat_minor": 0,
  "metadata": {
    "colab": {
      "provenance": []
    },
    "kernelspec": {
      "name": "python3",
      "display_name": "Python 3"
    },
    "language_info": {
      "name": "python"
    }
  },
  "cells": [
    {
      "cell_type": "markdown",
      "source": [
        "# **Lenguajes de Programación - Tutorial Erlang**\n",
        "\n",
        "# Ejemplos\n",
        "\n",
        "Autores:\n",
        "*   Julián Alexander Manosalva Manrique\n",
        "*   Juan Sebastián Pachón Carvajal\n",
        "*   David Alexander Zambrano Bohórquez\n",
        "\n",
        "\n",
        "\n"
      ],
      "metadata": {
        "id": "7_CzoeEVdWim"
      }
    },
    {
      "cell_type": "code",
      "source": [
        "!!apt install erlang"
      ],
      "metadata": {
        "id": "UwBJnBYonO6J"
      },
      "execution_count": null,
      "outputs": []
    },
    {
      "cell_type": "markdown",
      "source": [
        "**Ejemplo 0**"
      ],
      "metadata": {
        "id": "BSUXpzEMasU8"
      }
    },
    {
      "cell_type": "markdown",
      "source": [
        "Escribir un programa en Erlang que genere dos procesos concurrentes uno que sume y otro que reste dos números."
      ],
      "metadata": {
        "id": "yD4ybWCh1-El"
      }
    },
    {
      "cell_type": "code",
      "source": [
        "%%writefile arithmetic.erl\n",
        "\n",
        "-module(arithmetic).\n",
        "-export([start/0, sum/2, subtract/2]).\n",
        "\n",
        "start() ->\n",
        "    spawn(arithmetic, sum, [8, 2]),\n",
        "    spawn(arithmetic, subtract, [8, 2]).\n",
        "\n",
        "sum(A, B) ->\n",
        "    Result = A + B,\n",
        "    io:format(\"Sum result: ~w~n\", [Result]).\n",
        "\n",
        "subtract(A, B) ->\n",
        "    Result = A - B,\n",
        "    io:format(\"Subtraction result: ~w~n\", [Result])."
      ],
      "metadata": {
        "colab": {
          "base_uri": "https://localhost:8080/"
        },
        "id": "Xf_4JYSPrEPd",
        "outputId": "4f3955fc-f56a-442e-8c57-dc55ebc7f59d"
      },
      "execution_count": null,
      "outputs": [
        {
          "output_type": "stream",
          "name": "stdout",
          "text": [
            "Writing arithmetic.erl\n"
          ]
        }
      ]
    },
    {
      "cell_type": "code",
      "source": [
        "!erlc arithmetic.erl\n",
        "!erl -noshell -s arithmetic start -s init stop"
      ],
      "metadata": {
        "colab": {
          "base_uri": "https://localhost:8080/"
        },
        "id": "v9Scs-iIsr8h",
        "outputId": "06e546e4-9812-4c16-fbee-8fb912be7d82"
      },
      "execution_count": null,
      "outputs": [
        {
          "output_type": "stream",
          "name": "stdout",
          "text": [
            "Sum result: 10\n",
            "Subtraction result: 6\n"
          ]
        }
      ]
    },
    {
      "cell_type": "markdown",
      "source": [
        "**Ejemplo 1**\n",
        "\n"
      ],
      "metadata": {
        "id": "tlDlm0Y8ecFc"
      }
    },
    {
      "cell_type": "markdown",
      "source": [
        "\n",
        "Implementar un programa en Erlang, que implemente un contador ascendente y otro descendente. Luego editar este módulo para que los contadores se ejecuten de manera concurrente,"
      ],
      "metadata": {
        "id": "WxUZDwAQazVl"
      }
    },
    {
      "cell_type": "code",
      "source": [
        "%%writefile counter_lineal.erl\n",
        "\n",
        "-module(counter_lineal).\n",
        "-export([start/0]).\n",
        "\n",
        "\n",
        "start_counting(N) ->\n",
        "  count_up(N, 1),\n",
        "  count_down(N, N).\n",
        "\n",
        "count_up(N, Current) ->\n",
        "  io:format(\"Contador 1: ~w~n\", [Current]),\n",
        "  if\n",
        "    Current < N ->\n",
        "      count_up(N, Current + 1);\n",
        "    true ->\n",
        "      io:format(\"Ha finalizado el Contador ascendente~n\")\n",
        "  end.\n",
        "\n",
        "count_down(N, Current) ->\n",
        "  io:format(\"Contador 2: ~w~n\", [Current]),\n",
        "  if\n",
        "    Current > 1 ->\n",
        "      count_down(N, Current - 1);\n",
        "    true ->\n",
        "      io:format(\"Ha finalizado el Contador descendiente~n\")\n",
        "  end.\n",
        "\n",
        "start() ->\n",
        "  start_counting(10)."
      ],
      "metadata": {
        "colab": {
          "base_uri": "https://localhost:8080/"
        },
        "id": "lDDA3UdbcjHK",
        "outputId": "d898f078-41ab-43a9-f49b-1fc8ec8b8ade"
      },
      "execution_count": null,
      "outputs": [
        {
          "output_type": "stream",
          "name": "stdout",
          "text": [
            "Overwriting counter_lineal.erl\n"
          ]
        }
      ]
    },
    {
      "cell_type": "code",
      "source": [
        "!erlc counter_lineal.erl\n",
        "!erl -noshell -s counter_lineal start -s init stop"
      ],
      "metadata": {
        "colab": {
          "base_uri": "https://localhost:8080/"
        },
        "id": "z6oII50TctrX",
        "outputId": "997cafde-9393-4d8d-abbb-4fc510f37df4"
      },
      "execution_count": null,
      "outputs": [
        {
          "output_type": "stream",
          "name": "stdout",
          "text": [
            "Contador 1: 1\n",
            "Contador 1: 2\n",
            "Contador 1: 3\n",
            "Contador 1: 4\n",
            "Contador 1: 5\n",
            "Contador 1: 6\n",
            "Contador 1: 7\n",
            "Contador 1: 8\n",
            "Contador 1: 9\n",
            "Contador 1: 10\n",
            "Ha finalizado el Contador ascendente\n",
            "Contador 2: 10\n",
            "Contador 2: 9\n",
            "Contador 2: 8\n",
            "Contador 2: 7\n",
            "Contador 2: 6\n",
            "Contador 2: 5\n",
            "Contador 2: 4\n",
            "Contador 2: 3\n",
            "Contador 2: 2\n",
            "Contador 2: 1\n",
            "Ha finalizado el Contador descendiente\n"
          ]
        }
      ]
    },
    {
      "cell_type": "code",
      "source": [
        "%%writefile counter.erl\n",
        "\n",
        "-module(counter).\n",
        "-export([start/0]).\n",
        "\n",
        "start_counting(N) ->\n",
        "  spawn(fun() -> count_up(N, 1) end),\n",
        "  spawn(fun() -> count_down(N, N) end).\n",
        "\n",
        "count_up(N, Current) ->\n",
        "  io:format(\"Contador 1: ~w~n\", [Current]),\n",
        "  if\n",
        "    Current < N ->\n",
        "      count_up(N, Current + 1);\n",
        "    true ->\n",
        "      io:format(\"Ha finalizado el Contador ascendente~n\")\n",
        "  end.\n",
        "\n",
        "count_down(N, Current) ->\n",
        "  io:format(\"Contador 2: ~w~n\", [Current]),\n",
        "  if\n",
        "    Current > 1 ->\n",
        "      count_down(N, Current - 1);\n",
        "    true ->\n",
        "      io:format(\"Ha finalizado el Contador descendiente~n\")\n",
        "  end.\n",
        "\n",
        "start() ->\n",
        "  start_counting(10)."
      ],
      "metadata": {
        "colab": {
          "base_uri": "https://localhost:8080/"
        },
        "id": "DcS3MbIyZaRy",
        "outputId": "d08c3898-7605-4cea-ad2b-1095144d871c"
      },
      "execution_count": null,
      "outputs": [
        {
          "output_type": "stream",
          "name": "stdout",
          "text": [
            "Overwriting counter.erl\n"
          ]
        }
      ]
    },
    {
      "cell_type": "code",
      "source": [
        "!erlc counter.erl\n",
        "!erl -noshell -s counter start -s init stop"
      ],
      "metadata": {
        "colab": {
          "base_uri": "https://localhost:8080/"
        },
        "id": "mCf5tQZKaBT8",
        "outputId": "8dc769fe-fd37-4350-c82d-6bab4a9bc470"
      },
      "execution_count": null,
      "outputs": [
        {
          "output_type": "stream",
          "name": "stdout",
          "text": [
            "Contador 1: 1\n",
            "Contador 2: 10\n",
            "Contador 1: 2\n",
            "Contador 2: 9\n",
            "Contador 1: 3\n",
            "Contador 2: 8\n",
            "Contador 1: 4\n",
            "Contador 2: 7\n",
            "Contador 1: 5\n",
            "Contador 2: 6\n",
            "Contador 1: 6\n",
            "Contador 2: 5\n",
            "Contador 1: 7\n",
            "Contador 2: 4\n",
            "Contador 1: 8\n",
            "Contador 2: 3\n",
            "Contador 1: 9\n",
            "Contador 2: 2\n",
            "Contador 1: 10\n",
            "Contador 2: 1\n",
            "Ha finalizado el Contador ascendente\n",
            "Ha finalizado el Contador descendiente\n"
          ]
        }
      ]
    },
    {
      "cell_type": "markdown",
      "source": [
        "**Ejemplo 2**"
      ],
      "metadata": {
        "id": "GYYiJsPqee7K"
      }
    },
    {
      "cell_type": "markdown",
      "source": [
        " Implementar un programa en Erlang que permita calcular el mínimo y el máximo de una lista de números de forma concurrente. El programa debe crear dos procesos: uno para calcular el mínimo y otro para calcular el máximo. Cada proceso debe realizar sus cálculos de manera independiente y enviar el resultado al proceso principal. El proceso principal debe imprimir los valores mínimo y máximo una vez que los haya recibido de los procesos secundarios."
      ],
      "metadata": {
        "id": "0p6Xyi1aCnEq"
      }
    },
    {
      "cell_type": "code",
      "source": [
        "%%writefile min_max_concurrent.erl\n",
        "-module(min_max_concurrent).\n",
        "\n",
        "% Exportamos la función calculate_min_max/1 desde el módulo min_max_concurrent. \n",
        "% El número 1 entre paréntesis indica que la función tiene un aridad de 1, lo que significa que toma un argumento.\n",
        "-export([calculate_min_max/1, start/0]).\n",
        "\n",
        "% Función principal para calcular el mínimo y el máximo de una lista de forma concurrente (uso de cláusulas).\n",
        "calculate_min_max(List) ->\n",
        "    % Obtenemos el identificador del proceso principal.\n",
        "    ParentPid = self(),\n",
        "    % Creamos dos procesos secundarios para calcular el mínimo y el máximo.\n",
        "    % Utilizamos spawn para crear procesos y fun para definir funciones anónimas\n",
        "    spawn(fun() -> calculate_min(ParentPid, List) end),\n",
        "    spawn(fun() -> calculate_max(ParentPid, List) end),\n",
        "    % Esperamos a recibir los resultados de los procesos secundarios.\n",
        "    receive\n",
        "        % Recibimos el mensaje con el mínimo.\n",
        "        {min, Min} ->\n",
        "            receive\n",
        "                % Recibimos el mensaje con el máximo.\n",
        "                {max, Max} ->\n",
        "                    % Imprimimos el valor mínimo.\n",
        "                    io:format(\"Minimum: ~w~n\", [Min]),\n",
        "                    % Imprimimos el valor máximo.\n",
        "                    io:format(\"Maximum: ~w~n\", [Max])\n",
        "            end\n",
        "    end.\n",
        "\n",
        "% Función para calcular el mínimo de una lista (uso de cláusulas).\n",
        "% Esta función se encarga de recorrer la lista de números y actualizar el mínimo en cada iteración, manteniendo el valor mínimo actualizado hasta ese punto.\n",
        "calculate_min(ParentPid, [Head|Tail]) ->\n",
        "    % Llamamos a la función auxiliar con el valor mínimo actualizado.\n",
        "    calculate_min(ParentPid, Tail, Head).\n",
        "\n",
        "% Esta función itera sobre la lista de números y actualiza el valor mínimo (MinSoFar) cada vez que encuentra un número menor. \n",
        "% Utiliza la recursión para seguir avanzando en la lista hasta llegar al final y enviar el resultado al proceso principal.\n",
        "calculate_min(ParentPid, [Head|Tail], MinSoFar) ->\n",
        "    % Comparamos el número actual con el mínimo actual.\n",
        "    if\n",
        "        % Si encontramos un número menor, actualizamos el mínimo.\n",
        "        Head < MinSoFar ->\n",
        "            calculate_min(ParentPid, Tail, Head);\n",
        "        % Si no, continuamos con el mínimo actual.\n",
        "        true ->\n",
        "            calculate_min(ParentPid, Tail, MinSoFar)\n",
        "    end;\n",
        "\n",
        "% Esta función se ejecuta cuando hemos recorrido toda la lista de números y ya no quedan más elementos para comparar. \n",
        "% En este punto, tenemos el valor mínimo final y estamos listos para enviarlo al proceso principal.\n",
        "calculate_min(ParentPid, [], Min) ->\n",
        "    % Enviamos el resultado al proceso principal.\n",
        "    ParentPid ! {min, Min}.\n",
        "\n",
        "% Función para calcular el máximo de una lista.\n",
        "calculate_max(ParentPid, [Head|Tail]) ->\n",
        "    % Llamamos a la función auxiliar con el valor máximo actualizado.\n",
        "    calculate_max(ParentPid, Tail, Head).\n",
        "\n",
        "calculate_max(ParentPid, [Head|Tail], MaxSoFar) ->\n",
        "    % Comparamos el número actual con el máximo actual.\n",
        "    if\n",
        "        % Si encontramos un número mayor, actualizamos el máximo.\n",
        "        Head > MaxSoFar ->\n",
        "            calculate_max(ParentPid, Tail, Head);\n",
        "        % Si no, continuamos con el máximo actual.\n",
        "        true ->\n",
        "            calculate_max(ParentPid, Tail, MaxSoFar)\n",
        "    end;\n",
        "calculate_max(ParentPid, [], Max) ->\n",
        "    % Enviamos el resultado al proceso principal.\n",
        "    ParentPid ! {max, Max}.\n",
        "\n",
        "start() ->\n",
        "  min_max_concurrent:calculate_min_max([5, 8, 2, 1, 9, 4, 12, 1]).\n",
        "\n"
      ],
      "metadata": {
        "id": "uHp1IEli_Pey",
        "colab": {
          "base_uri": "https://localhost:8080/"
        },
        "outputId": "4fbc86f1-3a4f-48a7-bed3-53bf2541c3fd"
      },
      "execution_count": null,
      "outputs": [
        {
          "output_type": "stream",
          "name": "stdout",
          "text": [
            "Writing min_max_concurrent.erl\n"
          ]
        }
      ]
    },
    {
      "cell_type": "markdown",
      "source": [
        "Para efectos del tutorial, este ejemplo se realizó en Repl.it, una plataforma en línea que proporciona un entorno de desarrollo integrado (IDE) basado en la nube para ejecutar y programar en varios lenguajes de programación, incluido Erlang. Aquí se tiene cómo ejecutar el código anterior en el shell de Repl.it para Erlang:\n",
        "\n",
        "1.   Abrir un terminal o una línea de comandos en Repl.it.\n",
        "2.   Iniciar el shell de Erlang escribiendo '*erl*' y presionando Enter.\n",
        "3.   En el shell de Erlang, compila el código escribiendo '*c(min_max_concurrent).*' y presionando Enter.\n",
        "4.   Ejecutar el cálculo del mínimo y máximo de una lista llamando a la función *min_max_concurrent:calculate_min_max/1* con una lista de números como argumento. Por ejemplo, escribir '*min_max_concurrent:calculate_min_max([5, 8, 2, 1, 9, 4, 12, 1]).*' y posteriormente presionar Enter.\n",
        "\n",
        "El programa hallará el valor mínimo y el valor máximo de la lista de forma concurrente y los mostrará en consola, de la siguiente manera:"
      ],
      "metadata": {
        "id": "oLsX1ZUQ_9yR"
      }
    },
    {
      "cell_type": "code",
      "source": [
        "!erlc min_max_concurrent.erl\n",
        "!erl -noshell -s min_max_concurrent start -s init stop"
      ],
      "metadata": {
        "id": "Eg9KUMbuFEty",
        "outputId": "4eeb040c-471e-4d38-da52-99265dfd89f5",
        "colab": {
          "base_uri": "https://localhost:8080/"
        }
      },
      "execution_count": null,
      "outputs": [
        {
          "output_type": "stream",
          "name": "stdout",
          "text": [
            "Minimum: 1\n",
            "Maximum: 12\n"
          ]
        }
      ]
    },
    {
      "cell_type": "markdown",
      "source": [
        "**Ejemplo 3**"
      ],
      "metadata": {
        "id": "8HLnRknMehoo"
      }
    },
    {
      "cell_type": "markdown",
      "source": [
        "Implementar un programa en erlang que permita organizar una cierta lista dada utilizando el algoritmo merge sort usando concurrencia, utilizando recursión. En este caso cada vez que la lista se divida en dos se pueden crear nuevos procesos. Luego el primero proceso es el que debe imprimir la lista.\n",
        "\n",
        "Plus: Implementar un programa que verifique el tiempo que toma en realizar el merge sort con y sin concurrencia"
      ],
      "metadata": {
        "id": "FlT0DWQFUsu4"
      }
    },
    {
      "cell_type": "code",
      "source": [
        "%%writefile parallelMergeSort.erl\n",
        "-module(parallelMergeSort).\n",
        "-import(io,[fwrite/1]).\n",
        "-export([ms/1, pms/1, p_ms/2, start/0]).\n",
        "\n",
        "start() ->\n",
        "    seed(),\n",
        "    List = create_list( 50000, 100000 ),\n",
        "    { Time1, _ } = timer:tc( parallelMergeSort, ms, [List] ),\n",
        "    io:format( \"Merge sort took ~p seconds.~n\", [Time1 / 1000000] ),\n",
        "    { Time2, _ } = timer:tc( parallelMergeSort, pms, [List] ),\n",
        "    io:format( \"Parallel merge sort took ~p seconds.~n\", [Time2 / 1000000] ).\n",
        "\n",
        "%% seed( ) will seed the random number generator.\n",
        "seed( ) ->\n",
        "    rand:seed( exsss, { erlang:phash2( node( ) ), erlang:monotonic_time( ), erlang:unique_integer( ) } ).\n",
        "\n",
        "%% create_list( Length, Max ) returns a list with Length items in it, all of which are random numbers between 1 and Max.\n",
        "create_list( 0, _ ) -> [];\n",
        "create_list( Length, Max ) ->\n",
        "    [ rand:uniform( Max ) | create_list( Length - 1, Max ) ].\n",
        "\n",
        "% SEPARATE INTO TWO LISTS USING N AS THE LENGTH OF THE FIRST LIST,\n",
        "% AND THUS, THE SECOND LIST WILL HAVE length(L)-N elements\n",
        "\n",
        "% case we say the length of the list1 is 0\n",
        "sep(L, 0) -> \n",
        "\t{[], L};\n",
        "\n",
        "sep([H|T],N) ->\n",
        "   {Lleft, Lright} = sep(T,N-1),\n",
        "   \t{append([H],Lleft), Lright}.   \n",
        "\n",
        "append(L1,L2) ->\n",
        "\tL1++L2.\n",
        "\n",
        "\n",
        "% MERGE RETURNING SORTED LIST OF TWO LISTS\n",
        "merge(L1,L2) ->\n",
        "\tmerge(L1,L2,[]).\n",
        "\n",
        "merge([], [], RESULT_LIST) -> RESULT_LIST;\n",
        "merge([], SECOND_LIST, RESULT_LIST) -> append(RESULT_LIST, SECOND_LIST);\n",
        "merge(FIRST_LIST, [], RESULT_LIST) -> append(RESULT_LIST, FIRST_LIST);\n",
        "merge([H1|FIRST_LIST], [H2|SECOND_LIST], RESULT_LIST) ->\n",
        "\tif \tH1 < H2 ->\n",
        "\t\t\tmerge(FIRST_LIST, [H2|SECOND_LIST], append(RESULT_LIST, [H1]));\n",
        "\t\ttrue ->\t\n",
        "\t\t\tmerge([H1|FIRST_LIST], SECOND_LIST, append(RESULT_LIST, [H2]))\n",
        "\tend.\t\n",
        "\n",
        "% MERGE SORT IMPLEMENTATION\n",
        "ms([]) -> [];\n",
        "ms([X]) -> [X];\n",
        "ms(L) ->\n",
        "   {L1, L2} = sep(L, length(L) div 2),\n",
        "   merge(ms(L1), ms(L2)).\n",
        "\n",
        "\n",
        "% PARALLEL VERSION OF MERGE SORT\n",
        "rcvp(Pid) -> \n",
        "\treceive\n",
        "\t\t{Pid, L} -> L\n",
        "\tend.\n",
        "\n",
        "pms(L) ->\n",
        "\tPid = spawn(parallelMergeSort, p_ms, [self(), L]),\n",
        "  rcvp(Pid).\n",
        "\n",
        "p_ms(Pid, L) when length(L) < 100 -> \n",
        "  Pid ! {self(), ms(L)}; %Do mergesort\n",
        "p_ms(Pid, L) -> %Else, if the length is \"long\", spawn processes\n",
        "\t{Lleft, Lright} = sep(L, length(L) div 2),\n",
        "    Pid1 = spawn(parallelMergeSort, p_ms, [self(), Lleft]),\n",
        "    Pid2 = spawn(parallelMergeSort, p_ms, [self(), Lright]),\n",
        "    L1 = rcvp(Pid1),\n",
        "    L2 = rcvp(Pid2),\n",
        "    Pid ! {self(), merge(L1,L2)}. %Send to father the merged lists"
      ],
      "metadata": {
        "colab": {
          "base_uri": "https://localhost:8080/"
        },
        "id": "kK9AJ_fYPMmz",
        "outputId": "2d15fa51-8f39-4704-c163-e48d8daab061"
      },
      "execution_count": null,
      "outputs": [
        {
          "output_type": "stream",
          "name": "stdout",
          "text": [
            "Writing parallelMergeSort.erl\n"
          ]
        }
      ]
    },
    {
      "cell_type": "code",
      "source": [
        "!erlc parallelMergeSort.erl\n",
        "!erl -noshell -s parallelMergeSort start -s init stop"
      ],
      "metadata": {
        "colab": {
          "base_uri": "https://localhost:8080/"
        },
        "id": "JKvNsqbHPzaZ",
        "outputId": "9fc9ab08-a8d8-4dd9-c067-e619626260a8"
      },
      "execution_count": null,
      "outputs": [
        {
          "output_type": "stream",
          "name": "stdout",
          "text": [
            "Merge sort took 7.325266 seconds.\n",
            "Parallel merge sort took 8.730769 seconds.\n"
          ]
        }
      ]
    }
  ]
}
