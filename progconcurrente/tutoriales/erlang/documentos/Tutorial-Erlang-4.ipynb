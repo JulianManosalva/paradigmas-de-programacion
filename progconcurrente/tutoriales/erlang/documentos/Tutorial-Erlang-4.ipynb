{
 "metadata": {
  "name": "",
  "signature": "sha256:eca784574d32d7953120f5923ba674ce33270760519b2b08d177a16ab3bda7e0"
 },
 "nbformat": 3,
 "nbformat_minor": 0,
 "worksheets": [
  {
   "cells": [
    {
     "cell_type": "heading",
     "level": 1,
     "metadata": {},
     "source": [
      "<img src=\"https://k61.kn3.net/D/A/C/4/A/C/F96.png\" title=\"Hosted by imgur.com\"/>\n",
      "\n"
     ]
    },
    {
     "cell_type": "markdown",
     "metadata": {},
     "source": [
      "#1. Primeros pasos"
     ]
    },
    {
     "cell_type": "markdown",
     "metadata": {},
     "source": [
      "###1.1. Instalaci\u00f3n\n",
      "\n",
      "###Instalaci\u00f3n en distribuciones basadas en Debian\n",
      "\n",
      "1. Ejecutar el comando\n",
      "    \n",
      "   sudo apt-get install erlang erlang-doc\n",
      "    \n",
      "    <img src=\"https://k61.kn3.net/1/4/1/D/E/8/55F.png\" title=\"Instalacion\"/>\n",
      "    \n",
      "    \n",
      "2-. Probar que su instalaci\u00f3n haya sido correcta.\n",
      "\n",
      "   <img src=\"https://k60.kn3.net/3/3/B/F/B/B/DD7.png\" title=\"Prueba\"/>"
     ]
    },
    {
     "cell_type": "markdown",
     "metadata": {},
     "source": [
      "###Instalaci\u00f3n en distribuciones basadas en ArchLinux o que usen el gestor de paquetes pacman\n",
      "\n",
      "1. Ejecutar el comando\n",
      "    \n",
      "   sudo pacman -S erlang erlang-docs\n",
      "    \n",
      "    <img src=\"https://k61.kn3.net/5/F/9/5/8/3/F0D.png\" title=\"Instalacion2\"/>\n",
      "    \n",
      "    \n",
      "2-. Probar que su instalaci\u00f3n haya sido correcta.\n",
      "\n",
      "   <img src=\"https://k60.kn3.net/8/C/E/6/5/0/4FA.png\" title=\"Prueba\"/>\n"
     ]
    },
    {
     "cell_type": "markdown",
     "metadata": {},
     "source": [
      "#2. Generalidades"
     ]
    },
    {
     "cell_type": "markdown",
     "metadata": {},
     "source": [
      "##1. Comentarios"
     ]
    },
    {
     "cell_type": "markdown",
     "metadata": {},
     "source": [
      "Los comentarios inician con el s\u00edmbolo % y s\u00f3lo consumen una l\u00ednea. "
     ]
    },
    {
     "cell_type": "code",
     "collapsed": false,
     "input": [
      "%Esto es un comentario"
     ],
     "language": "python",
     "metadata": {},
     "outputs": []
    },
    {
     "cell_type": "markdown",
     "metadata": {},
     "source": [
      "##2. Variables y expresiones"
     ]
    },
    {
     "cell_type": "markdown",
     "metadata": {},
     "source": [
      "###2.1.Tipos de datos b\u00e1sicos"
     ]
    },
    {
     "cell_type": "markdown",
     "metadata": {},
     "source": [
      "###- Num\u00e9ricos\n",
      "Existen dos tipos de datos num\u00e9ricos: enteros y flotantes, con la notaci\u00f3n popular; tambi\u00e9n es posible expresar los datos num\u00e9ricos de la forma base#valor, y de la forma $caracter."
     ]
    },
    {
     "cell_type": "markdown",
     "metadata": {},
     "source": [
      "###Ejemplos:"
     ]
    },
    {
     "cell_type": "code",
     "collapsed": false,
     "input": [
      "Num = 48."
     ],
     "language": "python",
     "metadata": {},
     "outputs": [
      {
       "html": [
        "48"
       ],
       "metadata": {},
       "output_type": "pyout",
       "prompt_number": 1,
       "text": [
        "48"
       ]
      }
     ],
     "prompt_number": 1
    },
    {
     "cell_type": "code",
     "collapsed": false,
     "input": [
      "is_integer(Num)."
     ],
     "language": "python",
     "metadata": {},
     "outputs": [
      {
       "html": [
        "<pre>true</pre>"
       ],
       "metadata": {},
       "output_type": "pyout",
       "prompt_number": 2,
       "text": [
        "true"
       ]
      }
     ],
     "prompt_number": 2
    },
    {
     "cell_type": "code",
     "collapsed": false,
     "input": [
      "is_atom(Num)."
     ],
     "language": "python",
     "metadata": {},
     "outputs": [
      {
       "html": [
        "<pre>false</pre>"
       ],
       "metadata": {},
       "output_type": "pyout",
       "prompt_number": 3,
       "text": [
        "false"
       ]
      }
     ],
     "prompt_number": 3
    },
    {
     "cell_type": "code",
     "collapsed": false,
     "input": [
      "is_number(Num)."
     ],
     "language": "python",
     "metadata": {},
     "outputs": [
      {
       "html": [
        "<pre>true</pre>"
       ],
       "metadata": {},
       "output_type": "pyout",
       "prompt_number": 4,
       "text": [
        "true"
       ]
      }
     ],
     "prompt_number": 4
    },
    {
     "cell_type": "code",
     "collapsed": false,
     "input": [
      "Num2 = 18.3."
     ],
     "language": "python",
     "metadata": {},
     "outputs": [
      {
       "html": [
        "18.3"
       ],
       "metadata": {},
       "output_type": "pyout",
       "prompt_number": 5,
       "text": [
        "18.3"
       ]
      }
     ],
     "prompt_number": 5
    },
    {
     "cell_type": "code",
     "collapsed": false,
     "input": [
      "is_integer(Num2)."
     ],
     "language": "python",
     "metadata": {},
     "outputs": [
      {
       "html": [
        "<pre>false</pre>"
       ],
       "metadata": {},
       "output_type": "pyout",
       "prompt_number": 6,
       "text": [
        "false"
       ]
      }
     ],
     "prompt_number": 6
    },
    {
     "cell_type": "code",
     "collapsed": false,
     "input": [
      "Num3 = 16#A45B."
     ],
     "language": "python",
     "metadata": {},
     "outputs": [
      {
       "html": [
        "42075"
       ],
       "metadata": {},
       "output_type": "pyout",
       "prompt_number": 7,
       "text": [
        "42075"
       ]
      }
     ],
     "prompt_number": 7
    },
    {
     "cell_type": "code",
     "collapsed": false,
     "input": [
      "is_number(Num3)."
     ],
     "language": "python",
     "metadata": {},
     "outputs": [
      {
       "html": [
        "<pre>true</pre>"
       ],
       "metadata": {},
       "output_type": "pyout",
       "prompt_number": 8,
       "text": [
        "true"
       ]
      }
     ],
     "prompt_number": 8
    },
    {
     "cell_type": "code",
     "collapsed": false,
     "input": [
      "Num4 = $t."
     ],
     "language": "python",
     "metadata": {},
     "outputs": [
      {
       "html": [
        "116"
       ],
       "metadata": {},
       "output_type": "pyout",
       "prompt_number": 9,
       "text": [
        "116"
       ]
      }
     ],
     "prompt_number": 9
    },
    {
     "cell_type": "code",
     "collapsed": false,
     "input": [
      "is_integer(Num4)."
     ],
     "language": "python",
     "metadata": {},
     "outputs": [
      {
       "html": [
        "<pre>true</pre>"
       ],
       "metadata": {},
       "output_type": "pyout",
       "prompt_number": 10,
       "text": [
        "true"
       ]
      }
     ],
     "prompt_number": 10
    },
    {
     "cell_type": "code",
     "collapsed": false,
     "input": [
      "is_atom(Num4)."
     ],
     "language": "python",
     "metadata": {},
     "outputs": [
      {
       "html": [
        "<pre>false</pre>"
       ],
       "metadata": {},
       "output_type": "pyout",
       "prompt_number": 11,
       "text": [
        "false"
       ]
      }
     ],
     "prompt_number": 11
    },
    {
     "cell_type": "markdown",
     "metadata": {},
     "source": [
      "###-Booleanos\n",
      "Son del tipo \u00e1tomo, pero pueden ser procesados l\u00f3gicamente, denotan true y false."
     ]
    },
    {
     "cell_type": "code",
     "collapsed": false,
     "input": [
      "Vart = true."
     ],
     "language": "python",
     "metadata": {},
     "outputs": [
      {
       "html": [
        "<pre>true</pre>"
       ],
       "metadata": {},
       "output_type": "pyout",
       "prompt_number": 12,
       "text": [
        "true"
       ]
      }
     ],
     "prompt_number": 12
    },
    {
     "cell_type": "code",
     "collapsed": false,
     "input": [
      "Varf = false."
     ],
     "language": "python",
     "metadata": {},
     "outputs": [
      {
       "html": [
        "<pre>false</pre>"
       ],
       "metadata": {},
       "output_type": "pyout",
       "prompt_number": 13,
       "text": [
        "false"
       ]
      }
     ],
     "prompt_number": 13
    },
    {
     "cell_type": "code",
     "collapsed": false,
     "input": [
      "Vart == true."
     ],
     "language": "python",
     "metadata": {},
     "outputs": [
      {
       "html": [
        "<pre>true</pre>"
       ],
       "metadata": {},
       "output_type": "pyout",
       "prompt_number": 14,
       "text": [
        "true"
       ]
      }
     ],
     "prompt_number": 14
    },
    {
     "cell_type": "code",
     "collapsed": false,
     "input": [
      "Varf == false."
     ],
     "language": "python",
     "metadata": {},
     "outputs": [
      {
       "html": [
        "<pre>true</pre>"
       ],
       "metadata": {},
       "output_type": "pyout",
       "prompt_number": 15,
       "text": [
        "true"
       ]
      }
     ],
     "prompt_number": 15
    },
    {
     "cell_type": "markdown",
     "metadata": {},
     "source": [
      "###2.2. Variables"
     ]
    },
    {
     "cell_type": "markdown",
     "metadata": {},
     "source": [
      "- Una vez asignado un valor a una variable, este no se puede modificar.\n",
      "- Deben empezar con una letra may\u00fascula.\n",
      "- Para olvidar la asignaci\u00f3n de una variable, se utiliza el comando f(n_var), donde n_var es el nombre de la variable (el comando f() sin argumentos, cambia dicho estado para todas las variables a las que se les ha asignado un valor)."
     ]
    },
    {
     "cell_type": "markdown",
     "metadata": {},
     "source": [
      "###Ejemplos:"
     ]
    },
    {
     "cell_type": "code",
     "collapsed": false,
     "input": [
      "Var = 5."
     ],
     "language": "python",
     "metadata": {},
     "outputs": [
      {
       "html": [
        "5"
       ],
       "metadata": {},
       "output_type": "pyout",
       "prompt_number": 16,
       "text": [
        "5"
       ]
      }
     ],
     "prompt_number": 16
    },
    {
     "cell_type": "code",
     "collapsed": false,
     "input": [
      "Tupla = {78, 43, \"hola\", {1, \"dos\"}, Var, 'Atom'}."
     ],
     "language": "python",
     "metadata": {},
     "outputs": [
      {
       "html": [
        "<pre>{78,43,\"hola\",{1,\"dos\"},5,'Atom'}</pre>"
       ],
       "metadata": {},
       "output_type": "pyout",
       "prompt_number": 17,
       "text": [
        "{78,43,\"hola\",{1,\"dos\"},5,'Atom'}"
       ]
      }
     ],
     "prompt_number": 17
    },
    {
     "cell_type": "markdown",
     "metadata": {},
     "source": [
      "##3. Atoms"
     ]
    },
    {
     "cell_type": "markdown",
     "metadata": {},
     "source": [
      "Un atom es una unidad inmutable cuyo \u00fanico valor es el nombre que representa.\n",
      "- Inician por minusculas, siempre.\n",
      "- Estan constituidos por caracteres alfanum\u00e9ricos, guion a piso (_) y signo de arroba (@).\n",
      "- Si se inluye alg\u00fan caracter diferente a los mencionados, se debe encerrar el atom en comillas sencillas (' ')."
     ]
    },
    {
     "cell_type": "code",
     "collapsed": false,
     "input": [
      "'esto es un atom'."
     ],
     "language": "python",
     "metadata": {},
     "outputs": [
      {
       "html": [
        "<pre>'esto es un atom'</pre>"
       ],
       "metadata": {},
       "output_type": "pyout",
       "prompt_number": 18,
       "text": [
        "'esto es un atom'"
       ]
      }
     ],
     "prompt_number": 18
    },
    {
     "cell_type": "code",
     "collapsed": false,
     "input": [
      "y_esto_tambien."
     ],
     "language": "python",
     "metadata": {},
     "outputs": [
      {
       "html": [
        "<pre>y_esto_tambien</pre>"
       ],
       "metadata": {},
       "output_type": "pyout",
       "prompt_number": 19,
       "text": [
        "y_esto_tambien"
       ]
      }
     ],
     "prompt_number": 19
    },
    {
     "cell_type": "code",
     "collapsed": false,
     "input": [
      "esto@tambien."
     ],
     "language": "python",
     "metadata": {},
     "outputs": [
      {
       "html": [
        "<pre>esto@tambien</pre>"
       ],
       "metadata": {},
       "output_type": "pyout",
       "prompt_number": 20,
       "text": [
        "esto@tambien"
       ]
      }
     ],
     "prompt_number": 20
    },
    {
     "cell_type": "code",
     "collapsed": false,
     "input": [
      "'miAtom' = miAtom."
     ],
     "language": "python",
     "metadata": {},
     "outputs": [
      {
       "html": [
        "<pre>miAtom</pre>"
       ],
       "metadata": {},
       "output_type": "pyout",
       "prompt_number": 21,
       "text": [
        "miAtom"
       ]
      }
     ],
     "prompt_number": 21
    },
    {
     "cell_type": "code",
     "collapsed": false,
     "input": [
      "otroAtom = miOtroAtom."
     ],
     "language": "python",
     "metadata": {},
     "outputs": [
      {
       "html": [
        "<pre>{badmatch,miOtroAtom}</pre>"
       ],
       "metadata": {},
       "output_type": "pyout",
       "prompt_number": 22,
       "text": [
        "{badmatch,miOtroAtom}"
       ]
      }
     ],
     "prompt_number": 22
    },
    {
     "cell_type": "markdown",
     "metadata": {},
     "source": [
      "##4. Listas"
     ]
    },
    {
     "cell_type": "markdown",
     "metadata": {},
     "source": [
      "Una lista es una coleccion de datos de cualquier tipo, incluso combinados, desde atoms hasta otras listas. Las listas son cruciales\n",
      "en el manejo de datos en Erlang recordando sus origenes en Prolog. Estas listas se manejan se igual manera que en Prolog; estan constituidas por una cabecera y una cola."
     ]
    },
    {
     "cell_type": "code",
     "collapsed": false,
     "input": [
      "[1, 2, 3, 4]."
     ],
     "language": "python",
     "metadata": {},
     "outputs": [
      {
       "html": [
        "[1, 2, 3, 4]"
       ],
       "metadata": {},
       "output_type": "pyout",
       "prompt_number": 23,
       "text": [
        "[1, 2, 3, 4]"
       ]
      }
     ],
     "prompt_number": 23
    },
    {
     "cell_type": "code",
     "collapsed": false,
     "input": [
      "[1, {2, 4}, \"Hola\", 'Esto es un atom', y_esto].\n"
     ],
     "language": "python",
     "metadata": {},
     "outputs": [
      {
       "html": [
        "[[91, [[49], 44, [123, [[50], 44, [52]], 125], 44, [34, 72, 111, 108, 97, 34], 44, [39, 69, 115, 116, 111, 32, 101, 115, 32, 117, 110, 32, 97, 116, 111, 109, 39], 44, [121, 95, 101, 115, 116, 111]], 93]]"
       ],
       "metadata": {},
       "output_type": "pyout",
       "prompt_number": 24,
       "text": [
        "[[91, [[49], 44, [123, [[50], 44, [52]], 125], 44, [34, 72, 111, 108, 97, 34], 44, [39, 69, 115, 116, 111, 32, 101, 115, 32, 117, 110, 32, 97, 116, 111, 109, 39], 44, [121, 95, 101, 115, 116, 111]], 93]]"
       ]
      }
     ],
     "prompt_number": 24
    },
    {
     "cell_type": "markdown",
     "metadata": {},
     "source": [
      "Para hallar la cabecera de una lista, usamos hd(). Para el caso de la cola, usamos tl()."
     ]
    },
    {
     "cell_type": "code",
     "collapsed": false,
     "input": [
      "H = hd([1, 2 , 3, 4])."
     ],
     "language": "python",
     "metadata": {},
     "outputs": [
      {
       "html": [
        "1"
       ],
       "metadata": {},
       "output_type": "pyout",
       "prompt_number": 25,
       "text": [
        "1"
       ]
      }
     ],
     "prompt_number": 25
    },
    {
     "cell_type": "code",
     "collapsed": false,
     "input": [
      "T = tl([1,2,3,4])."
     ],
     "language": "python",
     "metadata": {},
     "outputs": [
      {
       "html": [
        "[2, 3, 4]"
       ],
       "metadata": {},
       "output_type": "pyout",
       "prompt_number": 26,
       "text": [
        "[2, 3, 4]"
       ]
      }
     ],
     "prompt_number": 26
    },
    {
     "cell_type": "markdown",
     "metadata": {},
     "source": [
      "Se pueden asignar tanto la cabecera como la cola de una lista a variables:"
     ]
    },
    {
     "cell_type": "code",
     "collapsed": false,
     "input": [
      "[E1, E2 | T1] = [1,2,3,4,5,6]."
     ],
     "language": "python",
     "metadata": {},
     "outputs": [
      {
       "html": [
        "[1, 2, 3, 4, 5, 6]"
       ],
       "metadata": {},
       "output_type": "pyout",
       "prompt_number": 27,
       "text": [
        "[1, 2, 3, 4, 5, 6]"
       ]
      }
     ],
     "prompt_number": 27
    },
    {
     "cell_type": "code",
     "collapsed": false,
     "input": [
      "E1."
     ],
     "language": "python",
     "metadata": {},
     "outputs": [
      {
       "html": [
        "1"
       ],
       "metadata": {},
       "output_type": "pyout",
       "prompt_number": 28,
       "text": [
        "1"
       ]
      }
     ],
     "prompt_number": 28
    },
    {
     "cell_type": "code",
     "collapsed": false,
     "input": [
      "E2."
     ],
     "language": "python",
     "metadata": {},
     "outputs": [
      {
       "html": [
        "2"
       ],
       "metadata": {},
       "output_type": "pyout",
       "prompt_number": 29,
       "text": [
        "2"
       ]
      }
     ],
     "prompt_number": 29
    },
    {
     "cell_type": "code",
     "collapsed": false,
     "input": [
      "T1."
     ],
     "language": "python",
     "metadata": {},
     "outputs": [
      {
       "html": [
        "[3, 4, 5, 6]"
       ],
       "metadata": {},
       "output_type": "pyout",
       "prompt_number": 30,
       "text": [
        "[3, 4, 5, 6]"
       ]
      }
     ],
     "prompt_number": 30
    },
    {
     "cell_type": "markdown",
     "metadata": {},
     "source": [
      "No existen Strings como tal en Erlang, as\u00ed que se simulan tratando una lista de n\u00fameros como una lista de caracteres Unicode (antes ASCII)."
     ]
    },
    {
     "cell_type": "code",
     "collapsed": false,
     "input": [
      "ElString = \"abc\"."
     ],
     "language": "python",
     "metadata": {},
     "outputs": [
      {
       "html": [
        "<pre>abc</pre>"
       ],
       "metadata": {},
       "output_type": "pyout",
       "prompt_number": 31,
       "text": [
        "abc"
       ]
      }
     ],
     "prompt_number": 31
    },
    {
     "cell_type": "code",
     "collapsed": false,
     "input": [
      "f(ElString)."
     ],
     "language": "python",
     "metadata": {},
     "outputs": [
      {
       "html": [
        "<pre>undef</pre>"
       ],
       "metadata": {},
       "output_type": "pyout",
       "prompt_number": 32,
       "text": [
        "undef"
       ]
      }
     ],
     "prompt_number": 32
    },
    {
     "cell_type": "code",
     "collapsed": false,
     "input": [
      "ElOtroString = [97, 98, 99]."
     ],
     "language": "python",
     "metadata": {},
     "outputs": [
      {
       "html": [
        "<pre>abc</pre>"
       ],
       "metadata": {},
       "output_type": "pyout",
       "prompt_number": 33,
       "text": [
        "abc"
       ]
      }
     ],
     "prompt_number": 33
    },
    {
     "cell_type": "code",
     "collapsed": false,
     "input": [
      "ElString == ElOtroString."
     ],
     "language": "python",
     "metadata": {},
     "outputs": [
      {
       "html": [
        "<pre>true</pre>"
       ],
       "metadata": {},
       "output_type": "pyout",
       "prompt_number": 34,
       "text": [
        "true"
       ]
      }
     ],
     "prompt_number": 34
    },
    {
     "cell_type": "markdown",
     "metadata": {},
     "source": [
      "Algunas operaciones comunes sobre Strings:"
     ]
    },
    {
     "cell_type": "code",
     "collapsed": false,
     "input": [
      "%Concatenacion\n",
      "ElString ++ ElOtroString."
     ],
     "language": "python",
     "metadata": {},
     "outputs": [
      {
       "html": [
        "<pre>abcabc</pre>"
       ],
       "metadata": {},
       "output_type": "pyout",
       "prompt_number": 35,
       "text": [
        "abcabc"
       ]
      }
     ],
     "prompt_number": 35
    },
    {
     "cell_type": "code",
     "collapsed": false,
     "input": [
      "ElString -- [98]."
     ],
     "language": "python",
     "metadata": {},
     "outputs": [
      {
       "html": [
        "<pre>ac</pre>"
       ],
       "metadata": {},
       "output_type": "pyout",
       "prompt_number": 36,
       "text": [
        "ac"
       ]
      }
     ],
     "prompt_number": 36
    },
    {
     "cell_type": "markdown",
     "metadata": {},
     "source": [
      "##5 Tuplas"
     ]
    },
    {
     "cell_type": "markdown",
     "metadata": {},
     "source": [
      "Las tuplas se definen como agrupaciones de multiples datos, incluyendo otras tuplas."
     ]
    },
    {
     "cell_type": "code",
     "collapsed": false,
     "input": [
      "{1, {2,3}, elAtomo, {\"la\",\"tupla\"}}."
     ],
     "language": "python",
     "metadata": {},
     "outputs": [
      {
       "html": [
        "<pre>{1,{2,3},elAtomo,{\"la\",\"tupla\"}}</pre>"
       ],
       "metadata": {},
       "output_type": "pyout",
       "prompt_number": 37,
       "text": [
        "{1,{2,3},elAtomo,{\"la\",\"tupla\"}}"
       ]
      }
     ],
     "prompt_number": 37
    },
    {
     "cell_type": "markdown",
     "metadata": {},
     "source": [
      "En general, las tuplas se usan para empate de patrones o para crear colecciones de datos. \n",
      "Existe un tipo particular de tuplas, conocidas como Tuplas etiquetadas (tagged tuples), constituidas por un primer elemento de tipo atom, seguido de cualquier otra conjunto de datos (incluyendo otras tuplas). Su uso representa pares ordenados de datos y en general se usa m\u00e1s para Pattern Matching."
     ]
    },
    {
     "cell_type": "markdown",
     "metadata": {},
     "source": [
      "###Ejemplo:"
     ]
    },
    {
     "cell_type": "code",
     "collapsed": false,
     "input": [
      "{etiqueta, {\"Supuestamente soy un string\", LaVariable2 = 3}, 2.3, 3}."
     ],
     "language": "python",
     "metadata": {},
     "outputs": [
      {
       "html": [
        "<pre>{etiqueta,{\"Supuestamente soy un string\",3},2.3,3}</pre>"
       ],
       "metadata": {},
       "output_type": "pyout",
       "prompt_number": 38,
       "text": [
        "{etiqueta,{\"Supuestamente soy un string\",3},2.3,3}"
       ]
      }
     ],
     "prompt_number": 38
    },
    {
     "cell_type": "code",
     "collapsed": false,
     "input": [
      "{llave1, 3.4}."
     ],
     "language": "python",
     "metadata": {},
     "outputs": [
      {
       "html": [
        "<pre>{llave1,3.4}</pre>"
       ],
       "metadata": {},
       "output_type": "pyout",
       "prompt_number": 39,
       "text": [
        "{llave1,3.4}"
       ]
      }
     ],
     "prompt_number": 39
    },
    {
     "cell_type": "code",
     "collapsed": false,
     "input": [
      "{otroAtom, masAtoms, 'y sabe que?', aunMas@Atoms}."
     ],
     "language": "python",
     "metadata": {},
     "outputs": [
      {
       "html": [
        "<pre>{otroAtom,masAtoms,'y sabe que?',aunMas@Atoms}</pre>"
       ],
       "metadata": {},
       "output_type": "pyout",
       "prompt_number": 40,
       "text": [
        "{otroAtom,masAtoms,'y sabe que?',aunMas@Atoms}"
       ]
      }
     ],
     "prompt_number": 40
    },
    {
     "cell_type": "markdown",
     "metadata": {},
     "source": [
      "###Errores al manejar variables"
     ]
    },
    {
     "cell_type": "code",
     "collapsed": false,
     "input": [
      "var = 60."
     ],
     "language": "python",
     "metadata": {},
     "outputs": [
      {
       "html": [
        "<pre>{badmatch,60}</pre>"
       ],
       "metadata": {},
       "output_type": "pyout",
       "prompt_number": 41,
       "text": [
        "{badmatch,60}"
       ]
      }
     ],
     "prompt_number": 41
    },
    {
     "cell_type": "code",
     "collapsed": false,
     "input": [
      "Tupla = {56, Hola_soy_una_variable, 'aqui_un_atomo'}."
     ],
     "language": "python",
     "metadata": {},
     "outputs": [
      {
       "html": [
        "<pre>{unbound_var,'Hola_soy_una_variable'}</pre>"
       ],
       "metadata": {},
       "output_type": "pyout",
       "prompt_number": 42,
       "text": [
        "{unbound_var,'Hola_soy_una_variable'}"
       ]
      }
     ],
     "prompt_number": 42
    },
    {
     "cell_type": "markdown",
     "metadata": {},
     "source": [
      "##6. Funciones y m\u00f3dulos"
     ]
    },
    {
     "cell_type": "markdown",
     "metadata": {},
     "source": [
      "Un *m\u00f3dulo* es una secuencia de atributos y declaraciones de funciones, terminadas con un punto. \n",
      "- En la primera l\u00ednea se define el nombre del m\u00f3dulo.\n",
      "- En la segunda l\u00ednea se define las funciones que se quieren usar por fuera del m\u00f3dulo.\n",
      "- /0 significa que recibir\u00e1 0 par\u00e1metros.\n",
      "- El s\u00edmbolo -> retornar\u00e1 el primer argumento."
     ]
    },
    {
     "cell_type": "code",
     "collapsed": false,
     "input": [
      "-module(hello).           \n",
      "-export([hello_world/0]). \n",
      "\n",
      "hello_world() -> \"hello, world\".  % Declaracion de funcion "
     ],
     "language": "python",
     "metadata": {},
     "outputs": [
      {
       "html": [
        "<pre>Successfully Compiled</pre>"
       ],
       "metadata": {},
       "output_type": "pyout",
       "prompt_number": 43,
       "text": [
        "Successfully Compiled"
       ]
      }
     ],
     "prompt_number": 43
    },
    {
     "cell_type": "markdown",
     "metadata": {},
     "source": [
      "###6.1. Compilaci\u00f3n de m\u00f3dulos "
     ]
    },
    {
     "cell_type": "code",
     "collapsed": false,
     "input": [
      "c(hello). % Compilacion del modulo hello"
     ],
     "language": "python",
     "metadata": {},
     "outputs": []
    },
    {
     "cell_type": "markdown",
     "metadata": {},
     "source": [
      "Al compilar el m\u00f3dulo hello, se generar\u00e1 un archivo hello.beam en el mismo directorio donde se encuentra el archivo hello.erl."
     ]
    },
    {
     "cell_type": "markdown",
     "metadata": {},
     "source": [
      "###6.2. Llamado de funciones\n",
      "Para llamar una funci\u00f3n, es necesario especificar el m\u00f3dulo donde se encuentra definido. Sigue la siguiente sintaxis:\n",
      "\n",
      "nombre_modulo:nombre_funcion(parametro1, parametro2,...)."
     ]
    },
    {
     "cell_type": "code",
     "collapsed": false,
     "input": [
      "hello:hello_world(). % Llamado de funcion hello_world "
     ],
     "language": "python",
     "metadata": {},
     "outputs": [
      {
       "html": [
        "<pre>hello, world</pre>"
       ],
       "metadata": {},
       "output_type": "pyout",
       "prompt_number": 44,
       "text": [
        "hello, world"
       ]
      }
     ],
     "prompt_number": 44
    },
    {
     "cell_type": "markdown",
     "metadata": {},
     "source": [
      "###Ejemplo 1: Factorial"
     ]
    },
    {
     "cell_type": "code",
     "collapsed": false,
     "input": [
      "-module(m).          \n",
      "-export([fact/1]).   \n",
      "\n",
      "fact(N) when N>0 ->  \n",
      "    N * fact(N-1);   \n",
      "fact(0) ->           \n",
      "    1.              "
     ],
     "language": "python",
     "metadata": {},
     "outputs": [
      {
       "html": [
        "<pre>Successfully Compiled</pre>"
       ],
       "metadata": {},
       "output_type": "pyout",
       "prompt_number": 45,
       "text": [
        "Successfully Compiled"
       ]
      }
     ],
     "prompt_number": 45
    },
    {
     "cell_type": "code",
     "collapsed": false,
     "input": [
      "m:fact(6)."
     ],
     "language": "python",
     "metadata": {},
     "outputs": [
      {
       "html": [
        "720"
       ],
       "metadata": {},
       "output_type": "pyout",
       "prompt_number": 46,
       "text": [
        "720"
       ]
      }
     ],
     "prompt_number": 46
    },
    {
     "cell_type": "markdown",
     "metadata": {},
     "source": [
      "###Ejemplo 2: Tipado Din\u00e1mico"
     ]
    },
    {
     "cell_type": "code",
     "collapsed": false,
     "input": [
      "-module(basico).\n",
      "-export([tipado_dinamico/1]).\n",
      "\n",
      "tipado_dinamico(Anything) -> Anything."
     ],
     "language": "python",
     "metadata": {},
     "outputs": [
      {
       "html": [
        "<pre>Successfully Compiled</pre>"
       ],
       "metadata": {},
       "output_type": "pyout",
       "prompt_number": 47,
       "text": [
        "Successfully Compiled"
       ]
      }
     ],
     "prompt_number": 47
    },
    {
     "cell_type": "code",
     "collapsed": false,
     "input": [
      "basico:tipado_dinamico(5)."
     ],
     "language": "python",
     "metadata": {},
     "outputs": [
      {
       "html": [
        "5"
       ],
       "metadata": {},
       "output_type": "pyout",
       "prompt_number": 48,
       "text": [
        "5"
       ]
      }
     ],
     "prompt_number": 48
    },
    {
     "cell_type": "code",
     "collapsed": false,
     "input": [
      "basico:tipado_dinamico(\"Hello World\")."
     ],
     "language": "python",
     "metadata": {},
     "outputs": [
      {
       "html": [
        "<pre>Hello World</pre>"
       ],
       "metadata": {},
       "output_type": "pyout",
       "prompt_number": 49,
       "text": [
        "Hello World"
       ]
      }
     ],
     "prompt_number": 49
    },
    {
     "cell_type": "code",
     "collapsed": false,
     "input": [
      "basico:tipado_dinamico([1,2,3,4])."
     ],
     "language": "python",
     "metadata": {},
     "outputs": [
      {
       "html": [
        "[1, 2, 3, 4]"
       ],
       "metadata": {},
       "output_type": "pyout",
       "prompt_number": 50,
       "text": [
        "[1, 2, 3, 4]"
       ]
      }
     ],
     "prompt_number": 50
    },
    {
     "cell_type": "markdown",
     "metadata": {},
     "source": [
      "###6.3. Polimorfismo"
     ]
    },
    {
     "cell_type": "markdown",
     "metadata": {},
     "source": [
      "Permite definir varios comportamientos dentro de una funci\u00f3n, dependiendo de los par\u00e1metros que se env\u00edan."
     ]
    },
    {
     "cell_type": "code",
     "collapsed": false,
     "input": [
      "-module(areas).\n",
      "-compile([export_all]).\n",
      "\n",
      "    area(cuadrado, Base) -> Base * Base; \n",
      "    area(circulo, Radio) -> math:pi() * Radio * Radio. \n",
      "    area(rectangulo, Base, Altura) -> Base * Altura; \n",
      "    area(triangulo, Base, Altura) -> Base * Altura / 2."
     ],
     "language": "python",
     "metadata": {},
     "outputs": [
      {
       "html": [
        "<pre>Successfully Compiled</pre>"
       ],
       "metadata": {},
       "output_type": "pyout",
       "prompt_number": 51,
       "text": [
        "Successfully Compiled"
       ]
      }
     ],
     "prompt_number": 51
    },
    {
     "cell_type": "code",
     "collapsed": false,
     "input": [
      "areas:area(cuadrado,5)."
     ],
     "language": "python",
     "metadata": {},
     "outputs": [
      {
       "html": [
        "25"
       ],
       "metadata": {},
       "output_type": "pyout",
       "prompt_number": 52,
       "text": [
        "25"
       ]
      }
     ],
     "prompt_number": 52
    },
    {
     "cell_type": "code",
     "collapsed": false,
     "input": [
      "areas:area(circulo,2)."
     ],
     "language": "python",
     "metadata": {},
     "outputs": [
      {
       "html": [
        "12.5663706144"
       ],
       "metadata": {},
       "output_type": "pyout",
       "prompt_number": 53,
       "text": [
        "12.5663706144"
       ]
      }
     ],
     "prompt_number": 53
    },
    {
     "cell_type": "code",
     "collapsed": false,
     "input": [
      "areas:area(rectangulo,2,5)."
     ],
     "language": "python",
     "metadata": {},
     "outputs": [
      {
       "html": [
        "10"
       ],
       "metadata": {},
       "output_type": "pyout",
       "prompt_number": 54,
       "text": [
        "10"
       ]
      }
     ],
     "prompt_number": 54
    },
    {
     "cell_type": "code",
     "collapsed": false,
     "input": [
      "areas:area(triangulo,3,5)."
     ],
     "language": "python",
     "metadata": {},
     "outputs": [
      {
       "html": [
        "7.5"
       ],
       "metadata": {},
       "output_type": "pyout",
       "prompt_number": 55,
       "text": [
        "7.5"
       ]
      }
     ],
     "prompt_number": 55
    },
    {
     "cell_type": "markdown",
     "metadata": {},
     "source": [
      "### 6.4. Funciones an\u00f3nimas "
     ]
    },
    {
     "cell_type": "markdown",
     "metadata": {},
     "source": [
      "Permiten declarar un tipo especial de funci\u00f3n inline sin nombrarla, pueden ser asignadas a variables. Son utilizadas especialmente sobre listas."
     ]
    },
    {
     "cell_type": "markdown",
     "metadata": {},
     "source": [
      "####Ejemplo 1:"
     ]
    },
    {
     "cell_type": "code",
     "collapsed": false,
     "input": [
      "Negate = fun(I) -> -I end."
     ],
     "language": "python",
     "metadata": {},
     "outputs": [
      {
       "html": [
        "<pre>#Fun<erl_eval.6.80484245></pre>"
       ],
       "metadata": {},
       "output_type": "pyout",
       "prompt_number": 56,
       "text": [
        "#Fun<erl_eval.6.80484245>"
       ]
      }
     ],
     "prompt_number": 56
    },
    {
     "cell_type": "code",
     "collapsed": false,
     "input": [
      "Negate(5)."
     ],
     "language": "python",
     "metadata": {},
     "outputs": [
      {
       "html": [
        "-5"
       ],
       "metadata": {},
       "output_type": "pyout",
       "prompt_number": 57,
       "text": [
        "-5"
       ]
      }
     ],
     "prompt_number": 57
    },
    {
     "cell_type": "markdown",
     "metadata": {},
     "source": [
      "####Ejemplo 2:"
     ]
    },
    {
     "cell_type": "code",
     "collapsed": false,
     "input": [
      "Numbers = [1,2,3,4,5]."
     ],
     "language": "python",
     "metadata": {},
     "outputs": [
      {
       "html": [
        "[1, 2, 3, 4, 5]"
       ],
       "metadata": {},
       "output_type": "pyout",
       "prompt_number": 58,
       "text": [
        "[1, 2, 3, 4, 5]"
       ]
      }
     ],
     "prompt_number": 58
    },
    {
     "cell_type": "code",
     "collapsed": false,
     "input": [
      "lists:foreach(fun(Number) -> io:format(\"~p \",[Number])end, Numbers)."
     ],
     "language": "python",
     "metadata": {},
     "outputs": [
      {
       "html": [
        "<pre>ok</pre>"
       ],
       "metadata": {},
       "output_type": "pyout",
       "prompt_number": 59,
       "text": [
        "ok"
       ]
      }
     ],
     "prompt_number": 59
    },
    {
     "cell_type": "markdown",
     "metadata": {},
     "source": [
      "##7. Pattern matching"
     ]
    },
    {
     "cell_type": "markdown",
     "metadata": {},
     "source": [
      "Erlang usa *Pattern matching* o concordancia para emparejar variables con valores. \u00c9ste puede ser expl\u00edcito, con el operador = o \u00edmplicito cuando se intenta emparejar los argumentos de una funci\u00f3n con sus par\u00e1metros."
     ]
    },
    {
     "cell_type": "markdown",
     "metadata": {},
     "source": [
      "###Ejemplos:"
     ]
    },
    {
     "cell_type": "code",
     "collapsed": false,
     "input": [
      "A = 1."
     ],
     "language": "python",
     "metadata": {},
     "outputs": [
      {
       "html": [
        "1"
       ],
       "metadata": {},
       "output_type": "pyout",
       "prompt_number": 60,
       "text": [
        "1"
       ]
      }
     ],
     "prompt_number": 60
    },
    {
     "cell_type": "code",
     "collapsed": false,
     "input": [
      "1 = 1."
     ],
     "language": "python",
     "metadata": {},
     "outputs": [
      {
       "html": [
        "1"
       ],
       "metadata": {},
       "output_type": "pyout",
       "prompt_number": 61,
       "text": [
        "1"
       ]
      }
     ],
     "prompt_number": 61
    },
    {
     "cell_type": "code",
     "collapsed": false,
     "input": [
      "{ok,B} = {ok, 42}."
     ],
     "language": "python",
     "metadata": {},
     "outputs": [
      {
       "html": [
        "<pre>{ok,42}</pre>"
       ],
       "metadata": {},
       "output_type": "pyout",
       "prompt_number": 62,
       "text": [
        "{ok,42}"
       ]
      }
     ],
     "prompt_number": 62
    },
    {
     "cell_type": "code",
     "collapsed": false,
     "input": [
      "1 = 2."
     ],
     "language": "python",
     "metadata": {},
     "outputs": [
      {
       "html": [
        "<pre>{badmatch,2}</pre>"
       ],
       "metadata": {},
       "output_type": "pyout",
       "prompt_number": 63,
       "text": [
        "{badmatch,2}"
       ]
      }
     ],
     "prompt_number": 63
    },
    {
     "cell_type": "code",
     "collapsed": false,
     "input": [
      "[H|T] = []."
     ],
     "language": "python",
     "metadata": {},
     "outputs": [
      {
       "html": [
        "<pre>{badmatch,[]}</pre>"
       ],
       "metadata": {},
       "output_type": "pyout",
       "prompt_number": 64,
       "text": [
        "{badmatch,[]}"
       ]
      }
     ],
     "prompt_number": 64
    },
    {
     "cell_type": "markdown",
     "metadata": {},
     "source": [
      "###Ejemplo: Pattern matching en funciones"
     ]
    },
    {
     "cell_type": "code",
     "collapsed": false,
     "input": [
      "-module(greetings).\n",
      "-export([greet/2]).\n",
      "\n",
      "greet(male,Name) ->\n",
      "    io:format(\"Hello, Mr. ~s!\",[Name]);\n",
      "greet(female,Name) ->\n",
      "    io:format(\"Hello, Mrs. ~s!\",[Name]);\n",
      "greet(_,Name) ->\n",
      "    io:format(\"Hello, ~s!\",[Name])."
     ],
     "language": "python",
     "metadata": {},
     "outputs": [
      {
       "html": [
        "<pre>Successfully Compiled</pre>"
       ],
       "metadata": {},
       "output_type": "pyout",
       "prompt_number": 65,
       "text": [
        "Successfully Compiled"
       ]
      }
     ],
     "prompt_number": 65
    },
    {
     "cell_type": "code",
     "collapsed": false,
     "input": [
      "greetings:greet(female, 'Stephanie')."
     ],
     "language": "python",
     "metadata": {},
     "outputs": [
      {
       "html": [
        "<pre>ok</pre>"
       ],
       "metadata": {},
       "output_type": "pyout",
       "prompt_number": 66,
       "text": [
        "ok"
       ]
      }
     ],
     "prompt_number": 66
    },
    {
     "cell_type": "code",
     "collapsed": false,
     "input": [
      "greetings:greet(male, 'Ricardo')."
     ],
     "language": "python",
     "metadata": {},
     "outputs": [
      {
       "html": [
        "<pre>ok</pre>"
       ],
       "metadata": {},
       "output_type": "pyout",
       "prompt_number": 67,
       "text": [
        "ok"
       ]
      }
     ],
     "prompt_number": 67
    },
    {
     "cell_type": "code",
     "collapsed": false,
     "input": [
      "greetings:greet(girl, 'Isabella')."
     ],
     "language": "python",
     "metadata": {},
     "outputs": [
      {
       "html": [
        "<pre>ok</pre>"
       ],
       "metadata": {},
       "output_type": "pyout",
       "prompt_number": 68,
       "text": [
        "ok"
       ]
      }
     ],
     "prompt_number": 68
    },
    {
     "cell_type": "markdown",
     "metadata": {},
     "source": [
      "##8. Estructuras de control"
     ]
    },
    {
     "cell_type": "markdown",
     "metadata": {},
     "source": [
      "En Erlang, se utilizan para cuando se quiere hacer algunas comparaciones dentro de la misma cl\u00e1usula de una funci\u00f3n, en lugar de crear otras."
     ]
    },
    {
     "cell_type": "markdown",
     "metadata": {},
     "source": [
      "###8.1. Estructura case"
     ]
    },
    {
     "cell_type": "markdown",
     "metadata": {},
     "source": [
      "La estructura Case nos permite usar Pattern Matching y Guards dentro de la cl\u00e1usula de una funci\u00f3n, presenta m\u00e1s claridad al momento de comparar un valor (o grupo de valores) con varias posibilidades."
     ]
    },
    {
     "cell_type": "markdown",
     "metadata": {},
     "source": [
      "###- Ejemplo:"
     ]
    },
    {
     "cell_type": "code",
     "collapsed": false,
     "input": [
      "-module(pets).\n",
      "-export([whichpet/1]).\n",
      "\n",
      "whichpet(Pet) ->\n",
      "    case Pet of\n",
      "        \"dog\" -> \"hey_doggie\";\n",
      "        \"cat\" -> \"hey kittie\";\n",
      "        \"bird\" -> \"please_fly\";\n",
      "        \"mouse\" -> \"Sup_Mickey?\"\n",
      "    end.\n"
     ],
     "language": "python",
     "metadata": {},
     "outputs": [
      {
       "html": [
        "<pre>Successfully Compiled</pre>"
       ],
       "metadata": {},
       "output_type": "pyout",
       "prompt_number": 69,
       "text": [
        "Successfully Compiled"
       ]
      }
     ],
     "prompt_number": 69
    },
    {
     "cell_type": "code",
     "collapsed": false,
     "input": [
      "pets:whichpet(\"dog\")."
     ],
     "language": "python",
     "metadata": {},
     "outputs": [
      {
       "html": [
        "<pre>hey_doggie</pre>"
       ],
       "metadata": {},
       "output_type": "pyout",
       "prompt_number": 70,
       "text": [
        "hey_doggie"
       ]
      }
     ],
     "prompt_number": 70
    },
    {
     "cell_type": "code",
     "collapsed": false,
     "input": [
      "pets:whichpet(\"cat\")."
     ],
     "language": "python",
     "metadata": {},
     "outputs": [
      {
       "html": [
        "<pre>hey kittie</pre>"
       ],
       "metadata": {},
       "output_type": "pyout",
       "prompt_number": 71,
       "text": [
        "hey kittie"
       ]
      }
     ],
     "prompt_number": 71
    },
    {
     "cell_type": "code",
     "collapsed": false,
     "input": [
      "pets:whichpet(\"mouse\")."
     ],
     "language": "python",
     "metadata": {},
     "outputs": [
      {
       "html": [
        "<pre>Sup_Mickey?</pre>"
       ],
       "metadata": {},
       "output_type": "pyout",
       "prompt_number": 72,
       "text": [
        "Sup_Mickey?"
       ]
      }
     ],
     "prompt_number": 72
    },
    {
     "cell_type": "code",
     "collapsed": false,
     "input": [
      "pets:whichpet(\"fox\")."
     ],
     "language": "python",
     "metadata": {},
     "outputs": [
      {
       "html": [
        "<pre>{case_clause,\"fox\"}</pre>"
       ],
       "metadata": {},
       "output_type": "pyout",
       "prompt_number": 73,
       "text": [
        "{case_clause,\"fox\"}"
       ]
      }
     ],
     "prompt_number": 73
    },
    {
     "cell_type": "markdown",
     "metadata": {},
     "source": [
      "###8.2.Estructura If "
     ]
    },
    {
     "cell_type": "markdown",
     "metadata": {},
     "source": [
      "La estructura  if es similar a la estructura case, con la diferencia de que no usa Pattern Matching (en lugar de eso se usan comparaciones l\u00f3gicas), y siempre tiene que encontrar una sentencia verdadera, de lo contrario reportar\u00e1 un error."
     ]
    },
    {
     "cell_type": "markdown",
     "metadata": {},
     "source": [
      "###- Ejemplo:"
     ]
    },
    {
     "cell_type": "code",
     "collapsed": false,
     "input": [
      "-module(bands).\n",
      "-export([knowledge/2]).\n",
      "\n",
      "knowledge(_, Albums) ->\n",
      "    if \n",
      "        Albums == 1 -> starter;\n",
      "        (Albums > 1) and (Albums =< 5) -> fan;\n",
      "        Albums > 5, Albums < 7 -> ultrafan;\n",
      "        Albums >= 7 -> you_love_it\n",
      "    end."
     ],
     "language": "python",
     "metadata": {},
     "outputs": [
      {
       "html": [
        "<pre>Successfully Compiled</pre>"
       ],
       "metadata": {},
       "output_type": "pyout",
       "prompt_number": 74,
       "text": [
        "Successfully Compiled"
       ]
      }
     ],
     "prompt_number": 74
    },
    {
     "cell_type": "code",
     "collapsed": false,
     "input": [
      "bands:knowledge(lala,6)."
     ],
     "language": "python",
     "metadata": {},
     "outputs": [
      {
       "html": [
        "<pre>ultrafan</pre>"
       ],
       "metadata": {},
       "output_type": "pyout",
       "prompt_number": 75,
       "text": [
        "ultrafan"
       ]
      }
     ],
     "prompt_number": 75
    },
    {
     "cell_type": "code",
     "collapsed": false,
     "input": [
      "bands:knowledge('9',19)."
     ],
     "language": "python",
     "metadata": {},
     "outputs": [
      {
       "html": [
        "<pre>you_love_it</pre>"
       ],
       "metadata": {},
       "output_type": "pyout",
       "prompt_number": 76,
       "text": [
        "you_love_it"
       ]
      }
     ],
     "prompt_number": 76
    },
    {
     "cell_type": "markdown",
     "metadata": {},
     "source": [
      "###Ejemplo Case + If"
     ]
    },
    {
     "cell_type": "code",
     "collapsed": false,
     "input": [
      "-module(soltar).\n",
      "-export([velocidad_caida/2]).\n",
      "\n",
      "velocidad_caida(Planemo, Distancia) when Distancia >= 0 -> \n",
      "    Gravedad = case Planemo of\n",
      "        tierra -> 9.8;\n",
      "        luna  -> 1.6;\n",
      "        marte -> 3.71\n",
      "    end, \n",
      "\n",
      "    Velocidad = math:sqrt(2 * Gravedad * Distancia),\n",
      "\n",
      "    Descripcion = if\n",
      "        Velocidad == 0 -> 'estable';\n",
      "        Velocidad < 5 -> 'lento';\n",
      "        Velocidad >= 5, Velocidad < 10 -> 'considerable';\n",
      "        Velocidad >= 10, Velocidad < 20 -> 'rapido';\n",
      "        Velocidad >= 20 -> 'muy rapido'\n",
      "    end,\n",
      "\n",
      "    if \n",
      "        Velocidad > 40 -> io:format(\"Cuidado abajo!~n\");\n",
      "        true -> true\n",
      "    end, \n",
      "\n",
      "    Descripcion.\n"
     ],
     "language": "python",
     "metadata": {},
     "outputs": [
      {
       "html": [
        "<pre>Successfully Compiled</pre>"
       ],
       "metadata": {},
       "output_type": "pyout",
       "prompt_number": 77,
       "text": [
        "Successfully Compiled"
       ]
      }
     ],
     "prompt_number": 77
    },
    {
     "cell_type": "code",
     "collapsed": false,
     "input": [
      "soltar:velocidad_caida(tierra, 30)."
     ],
     "language": "python",
     "metadata": {},
     "outputs": [
      {
       "html": [
        "<pre>'muy rapido'</pre>"
       ],
       "metadata": {},
       "output_type": "pyout",
       "prompt_number": 78,
       "text": [
        "'muy rapido'"
       ]
      }
     ],
     "prompt_number": 78
    },
    {
     "cell_type": "code",
     "collapsed": false,
     "input": [
      "soltar:velocidad_caida(luna, 60)."
     ],
     "language": "python",
     "metadata": {},
     "outputs": [
      {
       "html": [
        "<pre>rapido</pre>"
       ],
       "metadata": {},
       "output_type": "pyout",
       "prompt_number": 79,
       "text": [
        "rapido"
       ]
      }
     ],
     "prompt_number": 79
    },
    {
     "cell_type": "code",
     "collapsed": false,
     "input": [
      "soltar:velocidad_caida(marte, 50)."
     ],
     "language": "python",
     "metadata": {},
     "outputs": [
      {
       "html": [
        "<pre>rapido</pre>"
       ],
       "metadata": {},
       "output_type": "pyout",
       "prompt_number": 80,
       "text": [
        "rapido"
       ]
      }
     ],
     "prompt_number": 80
    },
    {
     "cell_type": "code",
     "collapsed": false,
     "input": [
      "soltar:velocidad_caida(tierra, 700)."
     ],
     "language": "python",
     "metadata": {},
     "outputs": [
      {
       "html": [
        "<pre>'muy rapido'</pre>"
       ],
       "metadata": {},
       "output_type": "pyout",
       "prompt_number": 81,
       "text": [
        "'muy rapido'"
       ]
      }
     ],
     "prompt_number": 81
    },
    {
     "cell_type": "markdown",
     "metadata": {},
     "source": [
      "###9. Programaci\u00f3n concurrente"
     ]
    },
    {
     "cell_type": "markdown",
     "metadata": {},
     "source": [
      "La concurrencia se define como la ejecuci\u00f3n de m\u00faltiples acciones de manera simult\u00e1nea. Erlang cuenta con un conjunto de funciones espec\u00edficas destinadas a esta labor. \n",
      "Con base a las tres premisas de ejecuci\u00f3n concurrente en Erlang (generaci\u00f3n de procesos, envio de mensajes y recepci\u00f3n de mensajes), disponemos de un conjunto de funciones que conceptualizan estas tres premisas.\n",
      "La primera de ellas es spawn(), esta funci\u00f3n se encarga de iniciar una unidad de trabajo independiente en erlang que se define como proceso (diferente a un proceso normal de un SO).\n"
     ]
    },
    {
     "cell_type": "markdown",
     "metadata": {},
     "source": [
      "###Ejemplo:"
     ]
    },
    {
     "cell_type": "code",
     "collapsed": false,
     "input": [
      "F = fun() -> io:format(\"~p~n\",[2+2]) end."
     ],
     "language": "python",
     "metadata": {},
     "outputs": [
      {
       "html": [
        "<pre>#Fun<erl_eval.20.80484245></pre>"
       ],
       "metadata": {},
       "output_type": "pyout",
       "prompt_number": 82,
       "text": [
        "#Fun<erl_eval.20.80484245>"
       ]
      }
     ],
     "prompt_number": 82
    },
    {
     "cell_type": "code",
     "collapsed": false,
     "input": [
      "PID = spawn(F)."
     ],
     "language": "python",
     "metadata": {},
     "outputs": [
      {
       "html": [
        "<pre><0.55.0></pre>"
       ],
       "metadata": {},
       "output_type": "pyout",
       "prompt_number": 83,
       "text": [
        "<0.55.0>"
       ]
      }
     ],
     "prompt_number": 83
    },
    {
     "cell_type": "markdown",
     "metadata": {},
     "source": [
      "En este caso, la variable PID almacena un identificador del proceso que arroja la funci\u00f3n spawn().\n",
      "\n",
      "Pero no basta con arrancar un proceso para un funci\u00f3n, necesitamos comunicar el proceso con otras instancias o procesos, para esto recurrimos a la funci\u00f3n !, mejor conocido como operador Bang. "
     ]
    },
    {
     "cell_type": "code",
     "collapsed": false,
     "input": [
      "self() ! a_message."
     ],
     "language": "python",
     "metadata": {},
     "outputs": [
      {
       "html": [
        "<pre>a_message</pre>"
       ],
       "metadata": {},
       "output_type": "pyout",
       "prompt_number": 84,
       "text": [
        "a_message"
       ]
      }
     ],
     "prompt_number": 84
    },
    {
     "cell_type": "markdown",
     "metadata": {},
     "source": [
      "En este caso, self() retorna el PID del shell sobre el cual se trabaja, el operador bang indica que lo posterior al operador es un mensaje que se env\u00eda al PID previo al operador (en este caso, dicho PID es el del shell).\n",
      "\n",
      "Pero, y \u00bfqu\u00e9 se hace despu\u00e9s?\n",
      "\n",
      "Hay dos formas de proseguir, la primera, radica en el hecho de que el mensaje anterior, se envi\u00f3 al Shell actual, por ende, usando la funci\u00f3n flush), obtendremos los mensajes enviados previamente al proceso del shell.\n",
      "\n",
      "En este caso, el  mensaje es el atom a_message.\n",
      "\n",
      "Pero la comunicaci\u00f3n no siempre ser\u00e1 con el shell, de hecho casi nunca, ser\u00e1 con otros procesos, por ende, como le decimos a un proceso que va a recibir un mensaje?\n",
      "\n",
      "Para ello, Erlang provee la siguiente estructura:"
     ]
    },
    {
     "cell_type": "code",
     "collapsed": false,
     "input": [
      "receive:\n",
      "    Patron1 when Guardia1 -> Expre1;\n",
      "    Patron2 when Guardia2 -> Expre2;\n",
      "    PatronN -> ExpreN\n",
      "end."
     ],
     "language": "python",
     "metadata": {},
     "outputs": []
    },
    {
     "cell_type": "markdown",
     "metadata": {},
     "source": [
      "La expresi\u00f3n recieve le dice al m\u00e9todo en que se implemente que va a recibir un mensaje, por lo que, al momento de llamar al m\u00e9todo, una vez ejecute el c\u00f3digo hasta la instrucci\u00f3n recieve, el m\u00e9todo espera a que le llegue alg\u00fan mensaje, una vez llega, verifica si el mensaje empata con alguno de los patrones definidos por los guardias, si es as\u00ed, ejecuta la expresi\u00f3n correspondiente, de lo contrario, solo ejecuta la expresi\u00f3n designada al patr\u00f3n por defecto.\n",
      "\n",
      "Veamos un ejemplo que globalice estos conceptos:\n"
     ]
    },
    {
     "cell_type": "markdown",
     "metadata": {},
     "source": [
      "###Ejemplo 1:"
     ]
    },
    {
     "cell_type": "code",
     "collapsed": false,
     "input": [
      "-module(dolphins).\n",
      "-compile(export_all).\n",
      "\n",
      "dolphin() -> \n",
      "    receive\n",
      "        {From, do_a_flip} ->\n",
      "            From ! \"How about no?\",\n",
      "            dolphin();\n",
      "        {From, fish} -> \n",
      "            From ! \"So long and thanks for all the fish\";\n",
      "        _->\n",
      "            io:format(\"Heh, We are smarter than you, humans.~n\"),\n",
      "            dolphin()\n",
      "    end."
     ],
     "language": "python",
     "metadata": {},
     "outputs": [
      {
       "html": [
        "<pre>Successfully Compiled</pre>"
       ],
       "metadata": {},
       "output_type": "pyout",
       "prompt_number": 86,
       "text": [
        "Successfully Compiled"
       ]
      }
     ],
     "prompt_number": 86
    },
    {
     "cell_type": "markdown",
     "metadata": {},
     "source": [
      "###Prueba"
     ]
    },
    {
     "cell_type": "code",
     "collapsed": false,
     "input": [
      "Dolphin = spawn(dolphins, dolphin, [])."
     ],
     "language": "python",
     "metadata": {},
     "outputs": [
      {
       "html": [
        "<pre><0.58.0></pre>"
       ],
       "metadata": {},
       "output_type": "pyout",
       "prompt_number": 87,
       "text": [
        "<0.58.0>"
       ]
      }
     ],
     "prompt_number": 87
    },
    {
     "cell_type": "code",
     "collapsed": false,
     "input": [
      "Dolphin ! {self(), do_a_flip}."
     ],
     "language": "python",
     "metadata": {},
     "outputs": [
      {
       "html": [
        "<pre>{<0.35.0>,do_a_flip}</pre>"
       ],
       "metadata": {},
       "output_type": "pyout",
       "prompt_number": 88,
       "text": [
        "{<0.35.0>,do_a_flip}"
       ]
      }
     ],
     "prompt_number": 88
    },
    {
     "cell_type": "code",
     "collapsed": false,
     "input": [
      "flush()."
     ],
     "language": "python",
     "metadata": {},
     "outputs": [
      {
       "html": [
        "<pre>undef</pre>"
       ],
       "metadata": {},
       "output_type": "pyout",
       "prompt_number": 89,
       "text": [
        "undef"
       ]
      }
     ],
     "prompt_number": 89
    },
    {
     "cell_type": "code",
     "collapsed": false,
     "input": [
      "Dolphin ! {self(), fish}."
     ],
     "language": "python",
     "metadata": {},
     "outputs": [
      {
       "html": [
        "<pre>{<0.35.0>,fish}</pre>"
       ],
       "metadata": {},
       "output_type": "pyout",
       "prompt_number": 90,
       "text": [
        "{<0.35.0>,fish}"
       ]
      }
     ],
     "prompt_number": 90
    },
    {
     "cell_type": "markdown",
     "metadata": {},
     "source": [
      "###Ejemplo 2:\n",
      "Se mantiene la comunicaci\u00f3n entre los dos m\u00e9todos en procesos diferentes "
     ]
    },
    {
     "cell_type": "code",
     "collapsed": false,
     "input": [
      "-module(ej).\n",
      "-export([start/0, ping/2, pong/0]).\n",
      "\n",
      "ping(0, Pong_PID) ->\n",
      "    Pong_PID ! finished,\n",
      "    io:format(\"ping finished~n\", []);\n",
      "\n",
      "ping(N, Pong_PID) ->\n",
      "    Pong_PID ! {ping, self()},\n",
      "    receive\n",
      "        pong ->\n",
      "            io:format(\"Ping received pong~n\", [])\n",
      "    end,\n",
      "    ping(N - 1, Pong_PID).\n",
      "\n",
      "pong() ->\n",
      "    receive\n",
      "        finished ->\n",
      "            io:format(\"Pong finished~n\", []);\n",
      "        {ping, Ping_PID} ->\n",
      "            io:format(\"Pong received ping~n\", []),\n",
      "            Ping_PID ! pong,\n",
      "            pong()\n",
      "    end.\n",
      "\n",
      "start() ->\n",
      "    Pong_PID = spawn(ej, pong, []),\n",
      "    spawn(ej, ping, [3, Pong_PID])."
     ],
     "language": "python",
     "metadata": {},
     "outputs": [
      {
       "html": [
        "<pre>Successfully Compiled</pre>"
       ],
       "metadata": {},
       "output_type": "pyout",
       "prompt_number": 91,
       "text": [
        "Successfully Compiled"
       ]
      }
     ],
     "prompt_number": 91
    },
    {
     "cell_type": "code",
     "collapsed": false,
     "input": [
      "ej:start()."
     ],
     "language": "python",
     "metadata": {},
     "outputs": [
      {
       "html": [
        "<pre><0.62.0></pre>"
       ],
       "metadata": {},
       "output_type": "pyout",
       "prompt_number": 92,
       "text": [
        "<0.62.0>"
       ]
      }
     ],
     "prompt_number": 92
    },
    {
     "cell_type": "markdown",
     "metadata": {},
     "source": [
      "Realizado por:\n",
      "Stephanie Torres Jim\u00e9nez, Sergio Cabezas Ma\u00f1osca, Daniel Uchamocha Qui\u00f1onez."
     ]
    }
   ],
   "metadata": {}
  }
 ]
}